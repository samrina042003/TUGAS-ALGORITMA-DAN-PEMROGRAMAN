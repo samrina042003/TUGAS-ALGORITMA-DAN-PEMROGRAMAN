{
  "nbformat": 4,
  "nbformat_minor": 0,
  "metadata": {
    "colab": {
      "name": "TUGAS  PEKAN 13",
      "provenance": [],
      "collapsed_sections": [],
      "authorship_tag": "ABX9TyOimuvz3PQutCC6m+cHhVSz",
      "include_colab_link": true
    },
    "kernelspec": {
      "name": "python3",
      "display_name": "Python 3"
    },
    "language_info": {
      "name": "python"
    }
  },
  "cells": [
    {
      "cell_type": "markdown",
      "metadata": {
        "id": "view-in-github",
        "colab_type": "text"
      },
      "source": [
        "<a href=\"https://colab.research.google.com/github/samrina042003/TUGAS-ALGORITMA-DAN-PEMROGRAMAN/blob/main/TUGAS_PEKAN_13.ipynb\" target=\"_parent\"><img src=\"https://colab.research.google.com/assets/colab-badge.svg\" alt=\"Open In Colab\"/></a>"
      ]
    },
    {
      "cell_type": "markdown",
      "source": [
        "**PENJUMLAHAN 2 BUAH MATRIKS**"
      ],
      "metadata": {
        "id": "xbPUa63oRoYQ"
      }
    },
    {
      "cell_type": "code",
      "source": [
        "#CARA 1 (Langsung memasukkan nilai matriks pada program)\n",
        "MatA=[\n",
        "  [6,4],\n",
        "  [1,3],\n",
        "]\n",
        "MatB=[\n",
        "  [6,6],\n",
        "  [2,4],\n",
        "]\n",
        "for x in range(0,len(MatA)):\n",
        "  for y in range(0,len(MatA[0])):\n",
        "    print(MatA[x][y]+MatB[x][y], end=' '),\n",
        "  print()"
      ],
      "metadata": {
        "colab": {
          "base_uri": "https://localhost:8080/"
        },
        "id": "eEUYMgfIRufB",
        "outputId": "2a177324-ce40-4d5b-a7c2-13dec4e3786e"
      },
      "execution_count": null,
      "outputs": [
        {
          "output_type": "stream",
          "name": "stdout",
          "text": [
            "12 10 \n",
            "3 7 \n"
          ]
        }
      ]
    },
    {
      "cell_type": "code",
      "source": [
        "#CARA 2 (Menginput sendiri nilai matriks yang diinginkan pada program)\n",
        "a=int(input('Nilai a: '))\n",
        "b=int(input('Nilai b: '))\n",
        "c=int(input('Nilai c: '))\n",
        "d=int(input('Nilai d: '))\n",
        "MatA=[\n",
        "  [a,b],\n",
        "  [c,d],\n",
        "]\n",
        "print(MatA)\n",
        "e=int(input('Nilai e: '))\n",
        "f=int(input('Nilai f: '))\n",
        "g=int(input('Nilai g: '))\n",
        "h=int(input('Nilai h: '))\n",
        "MatB=[\n",
        "  [e,f],\n",
        "  [g,h],\n",
        "]\n",
        "print(MatB)\n",
        "for x in range(0,len(MatA)):\n",
        "  for y in range(0,len(MatA[0])):\n",
        "    print(MatA[x][y]+MatB[x][y], end=' '),\n",
        "  print()"
      ],
      "metadata": {
        "colab": {
          "base_uri": "https://localhost:8080/"
        },
        "id": "JJoVNRk_G8dj",
        "outputId": "34ff0f81-88d0-4967-9761-2ec61b9db6b3"
      },
      "execution_count": null,
      "outputs": [
        {
          "output_type": "stream",
          "name": "stdout",
          "text": [
            "Nilai a: 6\n",
            "Nilai b: 4\n",
            "Nilai c: 1\n",
            "Nilai d: 3\n",
            "[[6, 4], [1, 3]]\n",
            "Nilai e: 6\n",
            "Nilai f: 6\n",
            "Nilai g: 2\n",
            "Nilai h: 4\n",
            "[[6, 6], [2, 4]]\n",
            "12 10 \n",
            "3 7 \n"
          ]
        }
      ]
    },
    {
      "cell_type": "markdown",
      "source": [
        "**NOMOR 1**"
      ],
      "metadata": {
        "id": "srUf3lqo7AW3"
      }
    },
    {
      "cell_type": "code",
      "source": [
        "banyak_barang=int(input('Banyak Barang: '))\n",
        "jumlah_beli=0\n",
        "for p in range(banyak_barang):\n",
        "  print('Barang ke-',p+1)\n",
        "  harga_barang=int(input('Harga Barang: '))\n",
        "  jumlah_barang=int(input('Jumlah Barang: '))\n",
        "  total=jumlah_barang*harga_barang\n",
        "  print('total harga', total)\n",
        "  for q in range(total):\n",
        "    jumlah_beli=jumlah_beli+1\n",
        "print(jumlah_beli)"
      ],
      "metadata": {
        "colab": {
          "base_uri": "https://localhost:8080/"
        },
        "id": "DXbRlwHMyDzw",
        "outputId": "8d789566-323b-473e-8563-24452e09d307"
      },
      "execution_count": 19,
      "outputs": [
        {
          "output_type": "stream",
          "name": "stdout",
          "text": [
            "Banyak Barang: 3\n",
            "Barang ke- 1\n",
            "Harga Barang: 1000\n",
            "Jumlah Barang: 2\n",
            "total harga 2000\n",
            "Barang ke- 2\n",
            "Harga Barang: 2000\n",
            "Jumlah Barang: 3\n",
            "total harga 6000\n",
            "Barang ke- 3\n",
            "Harga Barang: 3000\n",
            "Jumlah Barang: 4\n",
            "total harga 12000\n",
            "20000\n"
          ]
        }
      ]
    },
    {
      "cell_type": "markdown",
      "source": [
        "**NOMOR 2**"
      ],
      "metadata": {
        "id": "0oUbQLfRLp3Y"
      }
    },
    {
      "cell_type": "code",
      "source": [
        "#CARA 1 (menggunakan range nilai awal,nilai akhir)\n",
        "nilai_awal= int(input('input nilai awal: '))\n",
        "nilai_akhir=int(input('input nilai akhir: '))\n",
        "count=0\n",
        "countt=0\n",
        "for i in range(nilai_awal,nilai_akhir+1):\n",
        "  if i % 2 == 0 :\n",
        "    count=count+1\n",
        "  else :\n",
        "    countt=countt+1\n",
        "print('Banyak bilangan genap adalah %d bilangan' %count)\n",
        "print('Banyak bilangan ganjil adalah %d bilangan' %countt)"
      ],
      "metadata": {
        "colab": {
          "base_uri": "https://localhost:8080/"
        },
        "id": "Z_DyWDbnvQMc",
        "outputId": "013c752d-d3cd-421d-a97a-d9ddb5147b8f"
      },
      "execution_count": 6,
      "outputs": [
        {
          "output_type": "stream",
          "name": "stdout",
          "text": [
            "input nilai awal: 1\n",
            "input nilai akhir: 25\n",
            "Banyak bilangan genap adalah 12 bilangan\n",
            "Banyak bilangan ganjil adalah 13 bilangan\n"
          ]
        }
      ]
    },
    {
      "cell_type": "code",
      "source": [
        "#CARA 2 (memasukkan nilai secara langsung)\n",
        "count=0\n",
        "countt=0\n",
        "for i in [1,2,5,4,6,10,9,13] :\n",
        "  if i % 2 == 0 :\n",
        "    count=count+1\n",
        "  else :\n",
        "    countt=countt+1\n",
        "print('Banyak bilangan genap adalah %d bilangan' %count)\n",
        "print('Banyak bilangan ganjil adalah %d bilangan' %countt)"
      ],
      "metadata": {
        "colab": {
          "base_uri": "https://localhost:8080/"
        },
        "id": "aWYLhXjhTCNG",
        "outputId": "9ccdf852-eb47-4c14-c312-b849bf1b7e68"
      },
      "execution_count": 9,
      "outputs": [
        {
          "output_type": "stream",
          "name": "stdout",
          "text": [
            "Banyak bilangan genap adalah 4 bilangan\n",
            "Banyak bilangan ganjil adalah 4 bilangan\n"
          ]
        }
      ]
    },
    {
      "cell_type": "markdown",
      "source": [
        "**NOMOR 3**"
      ],
      "metadata": {
        "id": "dr280TmzUeOw"
      }
    },
    {
      "cell_type": "code",
      "source": [
        "#CARA 1 (Penggunaan range(nilai_awal,nilai_akhir,pencacah). Langsung memasukkan nilainya)\n",
        "for y in range(3,100,3):\n",
        "  print (y,end=' ')"
      ],
      "metadata": {
        "id": "i3FytwoRf4dA",
        "colab": {
          "base_uri": "https://localhost:8080/"
        },
        "outputId": "74b79255-fa03-4e8b-b380-e03301e5539d"
      },
      "execution_count": null,
      "outputs": [
        {
          "output_type": "stream",
          "name": "stdout",
          "text": [
            "3 6 9 12 15 18 21 24 27 30 33 36 39 42 45 48 51 54 57 60 63 66 69 72 75 78 81 84 87 90 93 96 99 "
          ]
        }
      ]
    },
    {
      "cell_type": "code",
      "source": [
        "#CARA 2 (Penggunaan range(nilai_awal,nilai_akhir). Menginput sendiri nilai yang diinginkan pada program)\n",
        "tugas=int(input('Masukkan Nilai: '))\n",
        "for i in range(1,tugas+1):\n",
        "    if i%3 == 0 :      \n",
        "      print(i,end=' ')"
      ],
      "metadata": {
        "colab": {
          "base_uri": "https://localhost:8080/"
        },
        "id": "rOK4cOGVAUO1",
        "outputId": "8482d4f5-deb0-4547-a1bd-19d261ef5993"
      },
      "execution_count": null,
      "outputs": [
        {
          "output_type": "stream",
          "name": "stdout",
          "text": [
            "Masukkan Nilai: 100\n",
            "3 6 9 12 15 18 21 24 27 30 33 36 39 42 45 48 51 54 57 60 63 66 69 72 75 78 81 84 87 90 93 96 99 "
          ]
        }
      ]
    },
    {
      "cell_type": "markdown",
      "source": [
        "**NOMOR 4**"
      ],
      "metadata": {
        "id": "1cgRYrTb7MT-"
      }
    },
    {
      "cell_type": "code",
      "source": [
        "s=' '\n",
        "bil=int(input('Input Bilangan: '))\n",
        "for i in range (1,bil+1):\n",
        "    s += str(i)+' '\n",
        "    print (s)"
      ],
      "metadata": {
        "colab": {
          "base_uri": "https://localhost:8080/"
        },
        "id": "Lqm5-YTED3X7",
        "outputId": "a070cd94-20e9-4cfb-eb83-c06e25815c00"
      },
      "execution_count": null,
      "outputs": [
        {
          "output_type": "stream",
          "name": "stdout",
          "text": [
            "Input Bilangan: 5\n",
            " 1 \n",
            " 1 2 \n",
            " 1 2 3 \n",
            " 1 2 3 4 \n",
            " 1 2 3 4 5 \n"
          ]
        }
      ]
    },
    {
      "cell_type": "markdown",
      "source": [
        "**NOMOR 5**"
      ],
      "metadata": {
        "id": "8TRQ59xcI8iv"
      }
    },
    {
      "cell_type": "code",
      "source": [
        "from prettytable import PrettyTable\n",
        "a= PrettyTable(['No.', 'Nama Mhs','N.Tugas', 'N.Kuis','N.UTS','N.UAS','NilaiAkhir'])\n",
        "a.add_row(['1',' ',' ',' ',' ',' ',' '])\n",
        "a.add_row(['2',' ',' ',' ',' ',' ',' '])\n",
        "a.add_row(['..',' ',' ',' ',' ',' ',' '])\n",
        "a.add_row(['N',' ',' ',' ',' ',' ',' '])\n",
        "print(a)"
      ],
      "metadata": {
        "id": "kpBKvMvpZS1m",
        "colab": {
          "base_uri": "https://localhost:8080/"
        },
        "outputId": "05fdc0f6-a0bc-4b52-e031-b5735d699f11"
      },
      "execution_count": 25,
      "outputs": [
        {
          "output_type": "stream",
          "name": "stdout",
          "text": [
            "+-----+----------+---------+--------+-------+-------+------------+\n",
            "| No. | Nama Mhs | N.Tugas | N.Kuis | N.UTS | N.UAS | NilaiAkhir |\n",
            "+-----+----------+---------+--------+-------+-------+------------+\n",
            "|  1  |          |         |        |       |       |            |\n",
            "|  2  |          |         |        |       |       |            |\n",
            "|  .. |          |         |        |       |       |            |\n",
            "|  N  |          |         |        |       |       |            |\n",
            "+-----+----------+---------+--------+-------+-------+------------+\n"
          ]
        }
      ]
    }
  ]
}