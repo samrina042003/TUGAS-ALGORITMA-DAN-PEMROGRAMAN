{
  "nbformat": 4,
  "nbformat_minor": 0,
  "metadata": {
    "colab": {
      "name": "PEKAN 10",
      "provenance": [],
      "collapsed_sections": [],
      "authorship_tag": "ABX9TyOpvcT26dGvijZjricRJXrE",
      "include_colab_link": true
    },
    "kernelspec": {
      "name": "python3",
      "display_name": "Python 3"
    },
    "language_info": {
      "name": "python"
    }
  },
  "cells": [
    {
      "cell_type": "markdown",
      "metadata": {
        "id": "view-in-github",
        "colab_type": "text"
      },
      "source": [
        "<a href=\"https://colab.research.google.com/github/samrina042003/TUGAS-ALGORITMA-DAN-PEMROGRAMAN/blob/main/PEKAN_10.ipynb\" target=\"_parent\"><img src=\"https://colab.research.google.com/assets/colab-badge.svg\" alt=\"Open In Colab\"/></a>"
      ]
    },
    {
      "cell_type": "code",
      "execution_count": null,
      "metadata": {
        "id": "kfbuEsV0MXPB",
        "colab": {
          "base_uri": "https://localhost:8080/"
        },
        "outputId": "d7907b0f-115b-4c98-e020-8bb400de7af7"
      },
      "outputs": [
        {
          "name": "stdout",
          "output_type": "stream",
          "text": [
            "Nama Anda:samrina\n"
          ]
        }
      ],
      "source": [
        "Nama=input(\"Nama Anda:\")"
      ]
    },
    {
      "cell_type": "code",
      "source": [
        "Nama"
      ],
      "metadata": {
        "colab": {
          "base_uri": "https://localhost:8080/",
          "height": 35
        },
        "id": "ftbMoAiyWvJm",
        "outputId": "5993c93e-c6a9-42f3-d947-8f62ebe1f678"
      },
      "execution_count": null,
      "outputs": [
        {
          "output_type": "execute_result",
          "data": {
            "text/plain": [
              "'samrina'"
            ],
            "application/vnd.google.colaboratory.intrinsic+json": {
              "type": "string"
            }
          },
          "metadata": {},
          "execution_count": 2
        }
      ]
    },
    {
      "cell_type": "code",
      "source": [
        "x1=eval(input(\"masukkan x1:\"))"
      ],
      "metadata": {
        "colab": {
          "base_uri": "https://localhost:8080/"
        },
        "id": "Ibref3DpW9Ov",
        "outputId": "cd6d9e46-26ba-496f-ba4a-528b419385b8"
      },
      "execution_count": null,
      "outputs": [
        {
          "name": "stdout",
          "output_type": "stream",
          "text": [
            "masukkan x1:3.21\n"
          ]
        }
      ]
    },
    {
      "cell_type": "code",
      "source": [
        "x1"
      ],
      "metadata": {
        "colab": {
          "base_uri": "https://localhost:8080/"
        },
        "id": "YE0osuXOXMUj",
        "outputId": "1b19161c-b553-4fa7-9735-ad25c85640d9"
      },
      "execution_count": null,
      "outputs": [
        {
          "output_type": "execute_result",
          "data": {
            "text/plain": [
              "3.21"
            ]
          },
          "metadata": {},
          "execution_count": 6
        }
      ]
    },
    {
      "cell_type": "code",
      "source": [
        "nama_brg=input(\"nama barang=\")\n",
        "harga_satuan=eval(input((\"harga satuan=\")))\n",
        "jum_brg=eval(input((\"jumlah barang=\")))\n",
        "total_hrg_brg=0\n",
        "harga_beli=jum_brg*harga_satuan\n",
        "total_hrg_brg=harga_beli+total_hrg_brg\n",
        "print(\"Total Harga yang dibayar Rp\",total_hrg_brg)"
      ],
      "metadata": {
        "colab": {
          "base_uri": "https://localhost:8080/"
        },
        "id": "3pblM92vYWty",
        "outputId": "65244b08-bf03-46e9-e645-1dd84ffef3fd"
      },
      "execution_count": null,
      "outputs": [
        {
          "output_type": "stream",
          "name": "stdout",
          "text": [
            "nama barang=kaos kaki\n",
            "harga satuan=1000\n",
            "jumlah barang=3\n",
            "Total Harga yang dibayar Rp 3000\n"
          ]
        }
      ]
    },
    {
      "cell_type": "code",
      "source": [
        "Kode ='AE107'\n",
        "NamaBarang = \"Kaca Mata\"\n",
        "HargaSatuan = 125000\n",
        "Stok = 10\n",
        "print('Kode barang = %s \\n Nama Barang = %s \\n Harga Satuan = Rp. %d \\n Stok Barang = %d'%(Kode,NamaBarang,HargaSatuan,Stok))"
      ],
      "metadata": {
        "colab": {
          "base_uri": "https://localhost:8080/"
        },
        "id": "r_81hHmpaKYQ",
        "outputId": "271ebccb-36ac-466a-ff39-1684181e35cb"
      },
      "execution_count": null,
      "outputs": [
        {
          "output_type": "stream",
          "name": "stdout",
          "text": [
            "Kode barang = AE107 \n",
            " Nama Barang = Kaca Mata \n",
            " Harga Satuan = Rp. 125000 \n",
            " Stok Barang = 10\n"
          ]
        }
      ]
    },
    {
      "cell_type": "code",
      "source": [
        "HargaBarang = float(HargaSatuan)"
      ],
      "metadata": {
        "id": "HMw7bifPbuyG"
      },
      "execution_count": null,
      "outputs": []
    },
    {
      "cell_type": "code",
      "source": [
        "print('Harga Satuan Barang - Rp.%.2f')"
      ],
      "metadata": {
        "colab": {
          "base_uri": "https://localhost:8080/"
        },
        "id": "RFjfyIJzb4mE",
        "outputId": "45396289-7e9e-423c-fa86-b0de8ff4247a"
      },
      "execution_count": null,
      "outputs": [
        {
          "output_type": "stream",
          "name": "stdout",
          "text": [
            "Harga Satuan Barang - Rp.%.2f\n"
          ]
        }
      ]
    },
    {
      "cell_type": "code",
      "source": [
        "print('Harga Satuan Barang - Rp.%.2f'%(HargaBarang))"
      ],
      "metadata": {
        "colab": {
          "base_uri": "https://localhost:8080/"
        },
        "id": "2TXNMgQwcLn-",
        "outputId": "f635e0bb-dff8-42d5-bfab-71650ef5e13c"
      },
      "execution_count": null,
      "outputs": [
        {
          "output_type": "stream",
          "name": "stdout",
          "text": [
            "Harga Satuan Barang - Rp.125000.00\n"
          ]
        }
      ]
    },
    {
      "cell_type": "code",
      "source": [
        "print('Harga Satuan Barang - Rp.%.2f'%(Stok))"
      ],
      "metadata": {
        "colab": {
          "base_uri": "https://localhost:8080/"
        },
        "id": "R286BZy2cuD5",
        "outputId": "a0de2806-d442-43ec-c8f3-bb5a7d6637ad"
      },
      "execution_count": null,
      "outputs": [
        {
          "output_type": "stream",
          "name": "stdout",
          "text": [
            "Harga Satuan Barang - Rp.10.00\n"
          ]
        }
      ]
    },
    {
      "cell_type": "code",
      "source": [
        "import math\n",
        "R = eval (input('masukkan jari2 tabung ='))\n",
        "T = eval (input('masukkan tinggi tabung ='))\n",
        "LuasTab = math.pi*R*R*T\n",
        "print('Luas Tabung adalah = %.3f' %(LuasTab))\n",
        "print('Luas Tabung adalah = ', LuasTab)\n",
        "print(\"Luas Tabung adalah = \", LuasTab)"
      ],
      "metadata": {
        "colab": {
          "base_uri": "https://localhost:8080/"
        },
        "id": "lx3Wi8k_deJ0",
        "outputId": "f902cce9-04e1-497f-c732-7d6e32ac7528"
      },
      "execution_count": null,
      "outputs": [
        {
          "output_type": "stream",
          "name": "stdout",
          "text": [
            "masukkan jari2 tabung =7\n",
            "masukkan tinggi tabung =10\n",
            "Luas Tabung adalah = 1539.380\n",
            "Luas Tabung adalah =  1539.3804002589986\n",
            "Luas Tabung adalah =  1539.3804002589986\n"
          ]
        }
      ]
    },
    {
      "cell_type": "code",
      "source": [
        "###SOAL NOMOR 1\n",
        "import statistics\n",
        "x1=eval(input('masukkan nilai x1:'))\n",
        "x2=eval(input('masukkan nilai x2:'))\n",
        "x3=eval(input('masukkan nilai x3:'))\n",
        "rata2=(x1+x2+x3)/3 ##cara biasa\n",
        "rata2baru=statistics.mean([x1,x2,x3]) ###library statistics\n",
        "print('jadi nilai rata-rata 3 bilangan adalah =',rata2)\n",
        "print('jadi nilai rata-rata 3 bilangan adalah =',rata2baru)"
      ],
      "metadata": {
        "colab": {
          "base_uri": "https://localhost:8080/"
        },
        "id": "I-S36zeAfigO",
        "outputId": "81e7373d-6d23-44b0-8a0d-5a105ab8ad3a"
      },
      "execution_count": null,
      "outputs": [
        {
          "output_type": "stream",
          "name": "stdout",
          "text": [
            "masukkan nilai x1:3\n",
            "masukkan nilai x2:4\n",
            "masukkan nilai x3:5\n",
            "jadi nilai rata-rata 3 bilangan adalah = 4.0\n",
            "jadi nilai rata-rata 3 bilangan adalah = 4\n"
          ]
        }
      ]
    },
    {
      "cell_type": "code",
      "source": [
        "###SOAL NOMOR 2\n",
        "x=eval(input('masukkan nilai x'))\n",
        "print('nilai f(x)',(2*x**3+2*x+15)/x)"
      ],
      "metadata": {
        "colab": {
          "base_uri": "https://localhost:8080/"
        },
        "id": "rHiAQumDg3xc",
        "outputId": "11117f59-37cb-4219-c609-0e7e5aa4f001"
      },
      "execution_count": null,
      "outputs": [
        {
          "output_type": "stream",
          "name": "stdout",
          "text": [
            "masukkan nilai x3\n",
            "nilai f(x) 25.0\n"
          ]
        }
      ]
    },
    {
      "cell_type": "code",
      "source": [
        "###SOAL NOMOR 3 CARA 1\n",
        "A= eval(input('masukkan nilai A='))\n",
        "B= eval(input('masukkan nilai B='))\n",
        "C= eval(input('masukkan nilai C='))\n",
        "D= eval(input('masukkan nilai D='))\n",
        "A,B,C,D=B,D,A,C\n",
        "print(A,B,C,D)\n",
        "\n",
        "\n"
      ],
      "metadata": {
        "colab": {
          "base_uri": "https://localhost:8080/"
        },
        "id": "jcMyiiyNj1j5",
        "outputId": "b72c062e-e8b2-409c-c79e-6573b5a29b91"
      },
      "execution_count": null,
      "outputs": [
        {
          "output_type": "stream",
          "name": "stdout",
          "text": [
            "masukkan nilai A=2\n",
            "masukkan nilai B=3\n",
            "masukkan nilai C=4\n",
            "masukkan nilai D=5\n",
            "3 5 2 4\n"
          ]
        }
      ]
    },
    {
      "cell_type": "code",
      "source": [
        "###SOAL NOMOR 3 CARA 2\n",
        "A= eval(input('masukkan nilai A='))\n",
        "B= eval(input('masukkan nilai B='))\n",
        "C= eval(input('masukkan nilai C='))\n",
        "D= eval(input('masukkan nilai D='))\n",
        "print ('A,B,C,D menjadi B,D,A,C =', B,D,A,C)"
      ],
      "metadata": {
        "colab": {
          "base_uri": "https://localhost:8080/"
        },
        "id": "AwDOU9ULnnX4",
        "outputId": "d45ddbbe-6050-46a6-c1a8-0f85092f464a"
      },
      "execution_count": null,
      "outputs": [
        {
          "output_type": "stream",
          "name": "stdout",
          "text": [
            "masukkan nilai A=2\n",
            "masukkan nilai B=3\n",
            "masukkan nilai C=4\n",
            "masukkan nilai D=5\n",
            "A,B,C,D menjadi B,D,A,C = 3 5 2 4\n"
          ]
        }
      ]
    }
  ]
}